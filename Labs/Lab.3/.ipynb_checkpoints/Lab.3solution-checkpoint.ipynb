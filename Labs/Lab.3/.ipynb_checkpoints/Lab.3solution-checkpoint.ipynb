{
 "cells": [
  {
   "cell_type": "markdown",
   "metadata": {},
   "source": [
    "# Lab 3\n",
    "\n",
    "In this lab we will become familiar with distributions, histograms, and functional programming. Do not use numpy or any other library for this lab.\n",
    "\n",
    "Before that, lets get setup homework submission and submit your previous lab.  \n",
    "\n",
    "## Working on the Command-line.\n",
    "\n",
    "It is important for you to learn to work on the command line and to be familiar with the Unix environment (e.g. Linux, Mac OS, or Windows Linux Subsystem). We'll go over working on the command-line in detail later in the course.\n",
    "\n",
    "You are required to submit your work in this course via GitHub. Today in class, you will setup everything on the command-line.\n",
    "\n",
    "### Command-line basics\n",
    "\n",
    "There is plenty of material online that will help you figure out how to do various tasks on the command line. Commands you may need to know today:\n",
    "\n",
    "* `ls`: lists the contents of the current directory.\n",
    "* `pwd`: prints the path of the current directory.\n",
    "* `cd <directory>`: changes your current directory to the specified directory.\n",
    "* `cd ..`: changes current directory to the previous directory. Basically steps out of the current directory to the directory containing the current directory.\n",
    "* `mkdir <directory>`: create a new directory with the specified name.\n",
    "* `rmdir <directory>`: removes the specified directory. Note it has to be empty.\n",
    "* `rm <filename>`: deletes the specified file.\n",
    "* `mv <filename 1> <filename 2>`: Moves or renames a file.\n",
    "* `cp <filename 1> <filename 2>`: copies an file. If you just provide a path to a directory, it copies the file into that directory with the same filename. If you specifiy a new filename, the copy has a new name. For example `cp File.1.txt File.2.txt` creates a copy of `File.1.txt` with the name `File.2.txt`. Meanwhile `cp File.1.txt my_directory`, where `my_directory` is a directory, creates a copy of `File.1.txt` in directory `my_directory` with the name `File.1.txt`.\n",
    "\n",
    "For reference, here are some example resources I found by googling:\n",
    "\n",
    "* Paths and Wildcards: https://www.warp.dev/terminus/linux-wildcards\n",
    "* Basic commands like copy: https://kb.iu.edu/d/afsk\n",
    "* General introduction to shell: https://github-pages.ucl.ac.uk/RCPSTrainingMaterials/HPCandHTCusingLegion/2_intro_to_shell.html\n",
    "* Manual pages: https://www.geeksforgeeks.org/linux-man-page-entries-different-types/?ref=ml_lbp\n",
    "* Chaining commands: https://www.geeksforgeeks.org/chaining-commands-in-linux/?ref=ml_lbp\n",
    "* Piping: https://www.geeksforgeeks.org/piping-in-unix-or-linux/\n",
    "* Using sed: https://www.geeksforgeeks.org/sed-command-linux-set-2/?ref=ml_lbp\n",
    "* Various Unix commands: https://www.geeksforgeeks.org/linux-commands/?ref=lbp\n",
    "* Cheat sheets:\n",
    "    * https://www.stationx.net/unix-commands-cheat-sheet/\n",
    "    * https://cheatography.com/davechild/cheat-sheets/linux-command-line/\n",
    "    * https://www.theknowledgeacademy.com/blog/unix-commands-cheat-sheet/\n",
    "    \n",
    "These aren't necessarily the best resources. Feel free to search for better ones. Also, don't forget that Unix has built-in manual pages for all of its commands. Just type `man <command>` at the command prompt. Use the space-bar to scroll through the documentation and \"q\" to exit.\n",
    "\n",
    "\n",
    "### Setup and Submission\n",
    "\n",
    "Our course repository is public. The instructions here aim to have you setup a fork of the course repository. Unfortunately because you are forking a public repo, your fork will have to be public also. \n",
    "\n",
    "You should be familiar with git from the first semester of this course. I assume that you all have github accounts and have setup things to be able to [push to github using ssh](https://docs.github.com/en/github/authenticating-to-github/connecting-to-github-with-ssh). The instuctions here lead you to:\n",
    "\n",
    "We'll overview what you will do before going through step by step instructions.\n",
    "\n",
    "1. Setup:\n",
    "    1. Fork the class repository. Some directions in [fork-a-repo](https://docs.github.com/en/github/getting-started-with-github/fork-a-repo).\n",
    "    1. Create a directory on your personal system where you will keep all course materials.\n",
    "    1. In that directory, clone your fork of the repository.\n",
    "    1. Using `git remote`, set the upstream to be the class repo, so you can pull from the class and push to your fork.\n",
    "\n",
    "1. Submission:\n",
    "    1. Copy your solutions into the appropriate directory (e.g. into `Labs/Lab.2/`) and with appropriate filename `Lab.2.solution.ipynb'.\n",
    "    1. Commit / push your solutions.\n",
    "    1. Grant access to course instructors.\n",
    "\n",
    "Below are step by step instructions with examples (including example directory naming convention). Feel free to modify things as you see fit. \n",
    "\n",
    "#### Setup\n",
    "You should only need to follow this instructions once. Here are some useful git commands:\n",
    "\n",
    "* Git help: `git help`\n",
    "* Git remote help: `git help remote`\n",
    "* Check remote status: `git remote -v`\n",
    "* Add a remote: `git remote add <stream name> <repo URL>`\n",
    "* Add a remove: `git remote remove <stream name>`\n",
    "\n",
    "Steps:\n",
    "1. In a browser, log into GitHub and navigate to the [course repository](https://github.com/UTA-DataScience/DATA3402.Spring.2025).\n",
    "1. On the top right of the page, press the fork button to create a new fork into your own GitHub account.\n",
    "1. After successful fork, you should find the browser showing your fork of the course repository. Use the green \"Code\" button to copy path to the repo into your the clipboard of your computer.\n",
    "1. Open a shell on your personal computer.\n",
    "1. If you have not done so already, create a new directory/folder where you will keep all course material to navigate to it. For example: `mkdir Data-3402` and `cd Data-3402`.\n",
    "1. Clone your fork of the repository using `git clone` followed by the path you copied into your clipboard. (copy/paste)\n",
    "1. Paste the URL to your fork in the worksheet for the TAs and instructors.\n",
    "1. Now go into the directory of your clone (`cd DATA3402.Spring.2025`).\n",
    "1. Type `git remote -v` to see the current setup for fetch and pull.\n",
    "1. Note the URL you see. This should be the same as what you used for your clone for both push and fetch.\n",
    "1. Delete the origin remote using `git remote remove origin`.\n",
    "1. Add the course repo as your remote using `git remote add origin https://github.com/UTA-DataScience/DATA3402.Spring.2025.git`.\n",
    "1. Change the push to point to your fork. This means you will need the URL to your clone we copied earlier and confirmed as the original origin. The command will look something like: `git remote set-url --push origin  https://github.com/XXXXXX/DATA3402.Spring.2025.git`, where XXXXX is your username on GitHub.\n",
    "1. Note that if you setup everything correctly, you now should be able to do `git pull` to get updates from the course repo, and do `git push` to push your commits into your own fork.\n",
    "\n",
    "### Submission\n",
    "These instructions outline how you submit files. Some useful commands:\n",
    "* To add a file to local repository: `git add <file>`.\n",
    "* To commit all changed files into local repository: `git -a -m \"A message\"`. You need to provide some comment when you commit. \n",
    "* To push the commited files from the local repository to GitHub: `git push`.\n",
    "* To get updates from GitHub: `git pull`.\n",
    "\n",
    "Steps:\n",
    "1. To submit your labs, navigate to your clone of your fork of the course repository. \n",
    "1. Use `git pull` to make sure you have the latest updates. \n",
    "1. Make sure your copy of the lab your are working on is in the appropriate place in this clone. That means if you have the file elsewhere, copy it to the same directory in your clone of your fork. \n",
    "1. Note that in order to avoid future conflicts, you should always name your solution differently than the original file in the class repo. For example if your file is still named `Lab.2.ipynb` you should rename it using the `mv` command: `mv Lab.2.ipynb Lab.2.solution.ipynb`. \n",
    "1. Add and files you wish to submit into the repo. For example: `git add Labs/Lab.2/Lab.2.solution.ipynb`\n",
    "1. Commit any changes: `git commit -a -m \"Lab 2 updates\"`\n",
    "1. Push your changes: `git push`\n",
    "1. Check on github website that your solutions have been properly submitted.\n",
    "\n",
    "Before you leave the session today, make sure your GitHub Repo is setup. If you need to work further on your lab, navigate jupyter to the copy of the lab you just submitted and work there. Once done, repeat the commit and push commands to submit your updated solution. Note that lab 2 is due by midnight Friay 1/31/2025.\n"
   ]
  },
  {
   "cell_type": "code",
   "execution_count": 73,
   "metadata": {},
   "outputs": [
    {
     "name": "stdout",
     "output_type": "stream",
     "text": [
      "Manny Nathan\n"
     ]
    }
   ],
   "source": [
    "print(\"Manny Nathan\")"
   ]
  },
  {
   "cell_type": "markdown",
   "metadata": {},
   "source": [
    "### Uniform Distribution\n",
    "Lets start with generating some fake random data. You can get a random number between 0 and 1 using the python random module as follow:"
   ]
  },
  {
   "cell_type": "code",
   "execution_count": 3,
   "metadata": {},
   "outputs": [
    {
     "name": "stdout",
     "output_type": "stream",
     "text": [
      "The Value of x is 0.32364390606439575\n"
     ]
    }
   ],
   "source": [
    "import random\n",
    "x=random.random()\n",
    "print(\"The Value of x is\", x)"
   ]
  },
  {
   "cell_type": "markdown",
   "metadata": {},
   "source": [
    "Everytime you call random, you will get a new number.\n",
    "\n",
    "*Exercise 1:* Using random, write a function `generate_uniform(N, mymin, mymax)`, that returns a python list containing N random numbers between specified minimum and maximum value. Note that you may want to quickly work out on paper how to turn numbers between 0 and 1 to between other values. "
   ]
  },
  {
   "cell_type": "code",
   "execution_count": 4,
   "metadata": {},
   "outputs": [],
   "source": [
    "# Skeleton\n",
    "def generate_uniform(N,x_min,x_max):\n",
    "    out = []\n",
    "    ### BEGIN SOLUTION\n",
    "\n",
    "    out = [random.uniform(x_min, x_max) for _ in range(N)]   \n",
    "    \n",
    "    ### END SOLUTION\n",
    "    return out"
   ]
  },
  {
   "cell_type": "code",
   "execution_count": 5,
   "metadata": {},
   "outputs": [
    {
     "name": "stdout",
     "output_type": "stream",
     "text": [
      "Data Type: <class 'list'>\n",
      "Data Length: 1000\n",
      "Type of Data Contents: <class 'float'>\n",
      "Data Minimum: -9.9918747477213\n",
      "Data Maximum: 9.994277073117775\n"
     ]
    }
   ],
   "source": [
    "# Test your solution here\n",
    "data=generate_uniform(1000,-10,10)\n",
    "print (\"Data Type:\", type(data))\n",
    "print (\"Data Length:\", len(data))\n",
    "if len(data)>0: \n",
    "    print (\"Type of Data Contents:\", type(data[0]))\n",
    "    print (\"Data Minimum:\", min(data))\n",
    "    print (\"Data Maximum:\", max(data))"
   ]
  },
  {
   "cell_type": "markdown",
   "metadata": {},
   "source": [
    "*Exercise 2a:* \n",
    "Write a function that computes the mean of values in a list. Recall the equation for the mean of a random variable $\\bf{x}$ computed on a data set of $n$ values $\\{ x_i \\} = \\{x_1, x_2, ..., x_n\\}$  is ${\\bf\\bar{x}} = \\frac{1}{n} \\sum_i^n x_i$."
   ]
  },
  {
   "cell_type": "code",
   "execution_count": 28,
   "metadata": {},
   "outputs": [],
   "source": [
    "# Skeleton\n",
    "def mean(Data):\n",
    "    m=0.\n",
    "    \n",
    "    ### BEGIN SOLUTION\n",
    "    if len(Data) > 0:\n",
    "        m = sum(Data) / len(Data)\n",
    "        \n",
    "    ### END SOLUTION\n",
    "    \n",
    "    return m"
   ]
  },
  {
   "cell_type": "code",
   "execution_count": 29,
   "metadata": {},
   "outputs": [
    {
     "name": "stdout",
     "output_type": "stream",
     "text": [
      "Mean of Data: 0.11940936540837678\n"
     ]
    }
   ],
   "source": [
    "# Test your solution here\n",
    "print (\"Mean of Data:\", mean(data))"
   ]
  },
  {
   "cell_type": "markdown",
   "metadata": {},
   "source": [
    "*Exercise 2b:* \n",
    "Write a function that computes the variance of values in a list. Recall the equation for the variance of a random variable $\\bf{x}$ computed on a data set of $n$ values $\\{ x_i \\} = \\{x_1, x_2, ..., x_n\\}$  is ${\\bf\\langle x \\rangle} = \\frac{1}{n} \\sum_i^n (x_i - {\\bf\\bar{x}})$."
   ]
  },
  {
   "cell_type": "code",
   "execution_count": 30,
   "metadata": {},
   "outputs": [],
   "source": [
    "# Skeleton\n",
    "def variance(Data):\n",
    "    m=0.\n",
    "    \n",
    "    ### BEGIN SOLUTION\n",
    "    n = len(Data)\n",
    "    if n == 0:\n",
    "        return 0  # Avoid division by zero\n",
    "    \n",
    "    mean = sum(Data) / n\n",
    "    m = sum((x - mean) ** 2 for x in Data) / n\n",
    "            \n",
    "    \n",
    "    ### END SOLUTION\n",
    "    \n",
    "    return m"
   ]
  },
  {
   "cell_type": "code",
   "execution_count": 31,
   "metadata": {},
   "outputs": [
    {
     "name": "stdout",
     "output_type": "stream",
     "text": [
      "Variance of Data: 35.92639829598715\n"
     ]
    }
   ],
   "source": [
    "# Test your solution here\n",
    "print (\"Variance of Data:\", variance(data))"
   ]
  },
  {
   "cell_type": "markdown",
   "metadata": {},
   "source": [
    "## Histogramming"
   ]
  },
  {
   "cell_type": "markdown",
   "metadata": {},
   "source": [
    "*Exercise 3:* Write a function that bins the data so that you can create a histogram. An example of how to implement histogramming is the following logic:\n",
    "\n",
    "* User inputs a list of values `x` and optionally `n_bins` which defaults to 10.\n",
    "* If not supplied, find the minimum and maximum (`x_min`,`x_max`) of the values in x.\n",
    "* Determine the bin size (`bin_size`) by dividing the range of the function by the number of bins.\n",
    "* Create an empty list of zeros of size `n_bins`, call it `hist`.\n",
    "* Loop over the values in `x`\n",
    "    * Loop over the values in `hist` with index `i`:\n",
    "        * If x is between `x_min+i*bin_size` and `x_min+(i+1)*bin_size`, increment `hist[i].` \n",
    "        * For efficiency, try to use continue to goto the next bin and data point.\n",
    "* Return `hist` and the list corresponding of the bin edges (i.e. of `x_min+i*bin_size`).    "
   ]
  },
  {
   "cell_type": "code",
   "execution_count": 32,
   "metadata": {},
   "outputs": [],
   "source": [
    "# Solution\n",
    "def histogram(x,n_bins=10,x_min=None,x_max=None):\n",
    "    ### BEGIN SOLUTION\n",
    "    # Set x_min and x_max if not provided\n",
    "    if x_min is None:\n",
    "        x_min = min(x)\n",
    "    if x_max is None:\n",
    "        x_max = max(x)\n",
    "    \n",
    "    # Compute bin size\n",
    "    bin_size = (x_max - x_min) / n_bins\n",
    "    \n",
    "    # Initialize histogram bins\n",
    "    hist = [0] * n_bins\n",
    "    bin_edges = [x_min + i * bin_size for i in range(n_bins + 1)]\n",
    "    \n",
    "    # Fill the histogram\n",
    "    for value in x:\n",
    "        if value < x_min or value > x_max:\n",
    "            continue  # Ignore out-of-range values\n",
    "        \n",
    "        for i in range(n_bins):\n",
    "            if x_min + i * bin_size <= value < x_min + (i + 1) * bin_size:\n",
    "                hist[i] += 1\n",
    "                break  # Move to the next data point for efficiency\n",
    "            \n",
    "    ### END SOLUTION\n",
    "\n",
    "    return hist,bin_edges"
   ]
  },
  {
   "cell_type": "code",
   "execution_count": 33,
   "metadata": {},
   "outputs": [
    {
     "name": "stdout",
     "output_type": "stream",
     "text": [
      "[9, 15, 9, 14, 14, 14, 9, 10, 12, 10, 2, 14, 13, 14, 13, 10, 5, 6, 2, 11, 9, 6, 10, 12, 14, 7, 7, 13, 18, 12, 7, 7, 11, 7, 14, 9, 6, 6, 11, 9, 14, 9, 11, 9, 7, 8, 11, 8, 4, 8, 6, 7, 14, 8, 8, 5, 4, 13, 10, 10, 8, 11, 12, 11, 10, 10, 11, 12, 6, 13, 9, 5, 11, 7, 13, 16, 11, 4, 12, 16, 13, 9, 10, 8, 6, 9, 8, 13, 15, 10, 13, 12, 9, 7, 11, 15, 9, 14, 12, 14]\n"
     ]
    }
   ],
   "source": [
    "# Test your solution here\n",
    "h,b=histogram(data,100)\n",
    "print(h)"
   ]
  },
  {
   "cell_type": "markdown",
   "metadata": {},
   "source": [
    "*Exercise 4:* Write a function that uses the histogram function in the previous exercise to create a text-based \"graph\". For example the output could look like the following:\n",
    "```\n",
    "[  0,  1] : ######\n",
    "[  1,  2] : #####\n",
    "[  2,  3] : ######\n",
    "[  3,  4] : ####\n",
    "[  4,  5] : ####\n",
    "[  5,  6] : ######\n",
    "[  6,  7] : #####\n",
    "[  7,  8] : ######\n",
    "[  8,  9] : ####\n",
    "[  9, 10] : #####\n",
    "```\n",
    "\n",
    "Where each line corresponds to a bin and the number of `#`'s are proportional to the value of the data in the bin. "
   ]
  },
  {
   "cell_type": "code",
   "execution_count": 34,
   "metadata": {},
   "outputs": [],
   "source": [
    "# Solution\n",
    "def draw_histogram(x,n_bins,x_min=None,x_max=None,character=\"#\",max_character_per_line=20):\n",
    "    ### BEGIN SOLUTION\n",
    "    # Generate histogram bins and edges\n",
    "    hist, bin_edges = histogram(x, n_bins, x_min, x_max)\n",
    "    \n",
    "    # Find the max value in hist for scaling\n",
    "    max_count = max(hist) if hist else 1  # Avoid division by zero\n",
    "    \n",
    "    # Draw the histogram\n",
    "    for i in range(n_bins):\n",
    "        bin_start = bin_edges[i]\n",
    "        bin_end = bin_edges[i + 1]\n",
    "        \n",
    "        # Scale the number of characters\n",
    "        bar_length = int((hist[i] / max_count) * max_character_per_line) if max_count > 0 else 0\n",
    "        \n",
    "        # Print formatted output\n",
    "        print(f\"[{bin_start:6.2f}, {bin_end:6.2f}] : {character * bar_length}\")\n",
    "    \n",
    "    ### END SOLUTION\n",
    "\n",
    "    return hist,bin_edges"
   ]
  },
  {
   "cell_type": "code",
   "execution_count": 39,
   "metadata": {},
   "outputs": [
    {
     "name": "stdout",
     "output_type": "stream",
     "text": [
      "[ -9.99,  -7.99] : ####################\n",
      "[ -7.99,  -5.99] : ###############\n",
      "[ -5.99,  -4.00] : ##################\n",
      "[ -4.00,  -2.00] : ###############\n",
      "[ -2.00,   0.00] : ###############\n",
      "[  0.00,   2.00] : ##############\n",
      "[  2.00,   4.00] : #################\n",
      "[  4.00,   6.00] : #################\n",
      "[  6.00,   8.00] : #################\n",
      "[  8.00,   9.99] : ####################\n"
     ]
    },
    {
     "data": {
      "text/plain": [
       "([116, 90, 108, 87, 89, 85, 104, 104, 101, 116],\n",
       " [-9.9918747477213,\n",
       "  -7.993259565637391,\n",
       "  -5.994644383553484,\n",
       "  -3.996029201469577,\n",
       "  -1.997414019385669,\n",
       "  0.001201162698238889,\n",
       "  1.999816344782145,\n",
       "  3.998431526866053,\n",
       "  5.997046708949961,\n",
       "  7.995661891033867,\n",
       "  9.994277073117777])"
      ]
     },
     "execution_count": 39,
     "metadata": {},
     "output_type": "execute_result"
    }
   ],
   "source": [
    "# Test your solution here\n",
    "h,b=histogram(data,20)\n",
    "draw_histogram(data,10)"
   ]
  },
  {
   "cell_type": "markdown",
   "metadata": {},
   "source": [
    "## Functional Programming\n",
    "\n",
    "*Exercise 5:* Write a function the applies a booling function (that returns true/false) to every element in data, and return a list of indices of elements where the result was true. Use this function to find the indices of entries greater than 0.5. "
   ]
  },
  {
   "cell_type": "code",
   "execution_count": 42,
   "metadata": {},
   "outputs": [],
   "source": [
    "def where(mylist,myfunc):\n",
    "    out= []\n",
    "    \n",
    "    ### BEGIN SOLUTION\n",
    "    out = [i for i, value in enumerate(mylist) if myfunc(value)]       \n",
    "    \n",
    "    ### END SOLUTION\n",
    "    \n",
    "    return out"
   ]
  },
  {
   "cell_type": "code",
   "execution_count": 43,
   "metadata": {},
   "outputs": [
    {
     "name": "stdout",
     "output_type": "stream",
     "text": [
      "Indices of entries greater than 0.5: [1, 3, 5]\n"
     ]
    }
   ],
   "source": [
    "# Test your solution here\n",
    "data = [0.1, 0.6, 0.3, 0.8, 0.5, 0.9, 0.2]\n",
    "indices = where(data, lambda x: x > 0.5)\n",
    "print(\"Indices of entries greater than 0.5:\", indices)"
   ]
  },
  {
   "cell_type": "markdown",
   "metadata": {},
   "source": [
    "*Exercise 6:* The `inrange(mymin,mymax)` function below returns a function that tests if it's input is between the specified values. Write corresponding functions that test:\n",
    "* Even\n",
    "* Odd\n",
    "* Greater than\n",
    "* Less than\n",
    "* Equal\n",
    "* Divisible by"
   ]
  },
  {
   "cell_type": "code",
   "execution_count": null,
   "metadata": {},
   "outputs": [],
   "source": [
    "def in_range(mymin,mymax):\n",
    "    def testrange(x):\n",
    "        return x<mymax and x>=mymin\n",
    "    return testrange\n",
    "\n",
    "# Examples:\n",
    "F1=inrange(0,10)\n",
    "F2=inrange(10,20)\n",
    "\n",
    "# Test of in_range\n",
    "print (F1(0), F1(1), F1(10), F1(15), F1(20))\n",
    "print (F2(0), F2(1), F2(10), F2(15), F2(20))\n",
    "\n",
    "print (\"Number of Entries passing F1:\", len(where(data,F1)))\n",
    "print (\"Number of Entries passing F2:\", len(where(data,F2)))"
   ]
  },
  {
   "cell_type": "code",
   "execution_count": 45,
   "metadata": {},
   "outputs": [],
   "source": [
    "### BEGIN SOLUTION\n",
    "\n",
    "    # Function to check if a number is even\n",
    "def is_even():\n",
    "    return lambda x: x % 2 == 0\n",
    "\n",
    "# Function to check if a number is odd\n",
    "def is_odd():\n",
    "    return lambda x: x % 2 != 0\n",
    "\n",
    "# Function to check if a number is greater than a given value\n",
    "def greater_than(value):\n",
    "    return lambda x: x > value\n",
    "\n",
    "# Function to check if a number is less than a given value\n",
    "def less_than(value):\n",
    "    return lambda x: x < value\n",
    "\n",
    "# Function to check if a number is equal to a given value\n",
    "def equal_to(value):\n",
    "    return lambda x: x == value\n",
    "\n",
    "# Function to check if a number is divisible by a given value\n",
    "def divisible_by(value):\n",
    "    return lambda x: x % value == 0\n",
    "\n",
    "# Test cases\n",
    "data = list(range(21))\n",
    "  \n",
    "    \n",
    "### END SOLUTION"
   ]
  },
  {
   "cell_type": "code",
   "execution_count": 46,
   "metadata": {},
   "outputs": [
    {
     "name": "stdout",
     "output_type": "stream",
     "text": [
      "Even numbers: [0, 2, 4, 6, 8, 10, 12, 14, 16, 18, 20]\n",
      "Odd numbers: [1, 3, 5, 7, 9, 11, 13, 15, 17, 19]\n",
      "Greater than 10: [11, 12, 13, 14, 15, 16, 17, 18, 19, 20]\n",
      "Less than 5: [0, 1, 2, 3, 4]\n",
      "Equal to 7: [7]\n",
      "Divisible by 3: [0, 3, 6, 9, 12, 15, 18]\n"
     ]
    }
   ],
   "source": [
    "# Test your solution\n",
    "print(\"Even numbers:\", where(data, is_even()))\n",
    "print(\"Odd numbers:\", where(data, is_odd()))\n",
    "print(\"Greater than 10:\", where(data, greater_than(10)))\n",
    "print(\"Less than 5:\", where(data, less_than(5)))\n",
    "print(\"Equal to 7:\", where(data, equal_to(7)))\n",
    "print(\"Divisible by 3:\", where(data, divisible_by(3)))"
   ]
  },
  {
   "cell_type": "markdown",
   "metadata": {},
   "source": [
    "*Exercise 7:* Repeat the previous exercise using `lambda` and the built-in python functions sum and map instead of your solution above. "
   ]
  },
  {
   "cell_type": "code",
   "execution_count": 48,
   "metadata": {},
   "outputs": [
    {
     "name": "stdout",
     "output_type": "stream",
     "text": [
      "Even numbers: 11\n",
      "Odd numbers: 10\n",
      "Greater than 10: 10\n",
      "Less than 5: 5\n",
      "Equal to 7: 1\n",
      "Divisible by 3: 7\n"
     ]
    }
   ],
   "source": [
    "### BEGIN SOLUTION\n",
    "\n",
    "    # Function to count elements that satisfy a condition using sum and map\n",
    "def where(mylist, myfunc):\n",
    "    return sum(1 for result in map(myfunc, mylist) if result)\n",
    "\n",
    "# Functions for different conditions using lambda\n",
    "is_even = lambda x: x % 2 == 0\n",
    "is_odd = lambda x: x % 2 != 0\n",
    "greater_than = lambda value: lambda x: x > value\n",
    "less_than = lambda value: lambda x: x < value\n",
    "equal_to = lambda value: lambda x: x == value\n",
    "divisible_by = lambda value: lambda x: x % value == 0\n",
    "\n",
    "# Test cases\n",
    "data = list(range(21))\n",
    "\n",
    "# Using 'where' function to count elements satisfying conditions\n",
    "print(\"Even numbers:\", where(data, is_even))\n",
    "print(\"Odd numbers:\", where(data, is_odd))\n",
    "print(\"Greater than 10:\", where(data, greater_than(10)))\n",
    "print(\"Less than 5:\", where(data, less_than(5)))\n",
    "print(\"Equal to 7:\", where(data, equal_to(7)))\n",
    "print(\"Divisible by 3:\", where(data, divisible_by(3)))\n",
    "       \n",
    "    \n",
    "### END SOLUTION"
   ]
  },
  {
   "cell_type": "markdown",
   "metadata": {},
   "source": [
    "## Monte Carlo\n",
    "\n",
    "*Exercise 7:* Write a \"generator\" function called `generate_function(func,x_min,x_max,N)`, that instead of generating a flat distribution, generates a distribution with functional form coded in `func`. Note that `func` will always be > 0.  \n",
    "\n",
    "Use the test function below and your histogramming functions above to demonstrate that your generator is working properly.\n",
    "\n",
    "Hint: A simple, but slow, solution is to a draw random number `test_x` within the specified range and another number `p` between the `min` and `max` of the function (which you will have to determine). If `p<=function(test_x)`, then place `test_x` on the output. If not, repeat the process, drawing two new numbers. Repeat until you have the specified number of generated numbers, `N`. For this problem, it's OK to determine the `min` and `max` by numerically sampling the function.  "
   ]
  },
  {
   "cell_type": "code",
   "execution_count": 63,
   "metadata": {},
   "outputs": [],
   "source": [
    "def generate_function(func,x_min,x_max,N=1000):\n",
    "    out = list()\n",
    "    ### BEGIN SOLUTION\n",
    "\n",
    "    # Estimate the maximum value of the function to scale p\n",
    "    samples = [func(x) for x in [x_min + (x_max - x_min) * i / 1000 for i in range(1000)]]\n",
    "    func_max = max(samples)  # Maximum value of the function in the given range\n",
    "\n",
    "    while len(out) < N:\n",
    "        # Generate random x within the range\n",
    "        test_x = random.uniform(x_min, x_max)\n",
    "        # Generate a random probability (between 0 and func_max)\n",
    "        p = random.uniform(0, func_max)\n",
    "        \n",
    "        # Accept test_x if p <= func(test_x), else reject and try again\n",
    "        if p <= func(test_x):\n",
    "            out.append(test_x)        \n",
    "    ### END SOLUTION\n",
    "    \n",
    "    return out"
   ]
  },
  {
   "cell_type": "code",
   "execution_count": 64,
   "metadata": {},
   "outputs": [],
   "source": [
    "# A test function\n",
    "def test_func(x,a=1,b=1):\n",
    "    return abs(a*x+b)"
   ]
  },
  {
   "cell_type": "markdown",
   "metadata": {},
   "source": [
    "*Exercise 8:* Use your function to generate 1000 numbers that are normal distributed, using the `gaussian` function below. Confirm the mean and variance of the data is close to the mean and variance you specify when building the Gaussian. Histogram the data. "
   ]
  },
  {
   "cell_type": "code",
   "execution_count": 74,
   "metadata": {},
   "outputs": [],
   "source": [
    "import math\n",
    "\n",
    "def gaussian(mean, sigma):\n",
    "    def f(x):\n",
    "        return math.exp(-((x-mean)**2)/(2*sigma**2))/math.sqrt(math.pi*sigma)\n",
    "    return f\n",
    "\n",
    "# Example Instantiation\n",
    "g1=gaussian(0,1)\n",
    "g2=gaussian(10,3)"
   ]
  },
  {
   "cell_type": "code",
   "execution_count": 75,
   "metadata": {},
   "outputs": [
    {
     "name": "stdout",
     "output_type": "stream",
     "text": [
      "Calculated Mean: 0.026757655360652995\n",
      "Calculated Variance: 1.003648921572871\n",
      "Generated values histogram: [1, 0, 0, 0, 2, 13, 12, 16, 25, 25, 55, 48, 66, 66, 92, 91, 70, 88, 65, 65, 48, 50, 31, 29, 17, 7, 13, 3, 1, 1]\n",
      "Bin edges: [-3.425536858820759, -3.209832367193649, -2.9941278755665386, -2.778423383939428, -2.5627188923123176, -2.3470144006852074, -2.131309909058097, -1.915605417430987, -1.6999009258038766, -1.4841964341767664, -1.2684919425496561, -1.0527874509225459, -0.8370829592954352, -0.6213784676683249, -0.4056739760412147, -0.18996948441410444, 0.02573500721300581, 0.24143949884011606, 0.4571439904672263, 0.6728484820943366, 0.8885529737214468, 1.104257465348557, 1.3199619569756673, 1.5356664486027776, 1.7513709402298887, 1.967075431856999, 2.182779923484109, 2.3984844151112195, 2.6141889067383297, 2.82989339836544, 3.04559788999255]\n"
     ]
    }
   ],
   "source": [
    "\n",
    "# Gaussian function\n",
    "def gaussian(mean, sigma):\n",
    "    def f(x):\n",
    "        return math.exp(-((x - mean) ** 2) / (2 * sigma ** 2)) / math.sqrt(2 * math.pi * sigma ** 2)\n",
    "    return f\n",
    "\n",
    "# Generate function using the Monte Carlo method\n",
    "def generate_function(func, x_min, x_max, N=1000):\n",
    "    out = []  # Initialize the list to store the accepted values\n",
    "    \n",
    "    # Estimate the maximum value of the function to scale p\n",
    "    samples = [func(x) for x in [x_min + (x_max - x_min) * i / 1000 for i in range(1000)]]\n",
    "    func_max = max(samples)  # Maximum value of the function in the given range\n",
    "\n",
    "    while len(out) < N:\n",
    "        # Generate random x within the range\n",
    "        test_x = random.uniform(x_min, x_max)\n",
    "        # Generate a random probability (between 0 and func_max)\n",
    "        p = random.uniform(0, func_max)\n",
    "        \n",
    "        # Accept test_x if p <= func(test_x), else reject and try again\n",
    "        if p <= func(test_x):\n",
    "            out.append(test_x)  # Add to output list if accepted\n",
    "    \n",
    "    return out\n",
    "\n",
    "# Generate 1000 numbers that follow a Gaussian distribution\n",
    "mean = 0\n",
    "sigma = 1\n",
    "g1 = gaussian(mean, sigma)\n",
    "\n",
    "# We want to sample from the Gaussian distribution within a reasonable range\n",
    "x_min = -5  # For a mean of 0, 5 standard deviations cover almost all data\n",
    "x_max = 5\n",
    "\n",
    "# Generate 1000 values based on the Gaussian distribution\n",
    "data = generate_function(g1, x_min, x_max, N=1000)\n",
    "\n",
    "# Calculate mean and variance\n",
    "calculated_mean = sum(data) / len(data)\n",
    "calculated_variance = sum((x - calculated_mean) ** 2 for x in data) / len(data)\n",
    "\n",
    "print(f\"Calculated Mean: {calculated_mean}\")\n",
    "print(f\"Calculated Variance: {calculated_variance}\")\n",
    "\n",
    "# Visualize the histogram of the generated data\n",
    "h, b = histogram(data, 30)\n",
    "print(\"Generated values histogram:\", h)\n",
    "print(\"Bin edges:\", b)\n"
   ]
  },
  {
   "cell_type": "markdown",
   "metadata": {},
   "source": [
    "*Exercise 9:* Combine your `generate_function`, `where`, and `in_range` functions above to create an integrate function. Use your integrate function to show that approximately 68% of Normal distribution is within one variance."
   ]
  },
  {
   "cell_type": "code",
   "execution_count": 69,
   "metadata": {},
   "outputs": [],
   "source": [
    "def integrate(func, x_min, x_max, n_points=1000):\n",
    "    \n",
    "    return integral"
   ]
  },
  {
   "cell_type": "code",
   "execution_count": 77,
   "metadata": {},
   "outputs": [
    {
     "name": "stdout",
     "output_type": "stream",
     "text": [
      "Percentage of data within one standard deviation: 90.60000000000001%\n"
     ]
    }
   ],
   "source": [
    "\n",
    "# Gaussian function\n",
    "def gaussian(mean, sigma):\n",
    "    def f(x):\n",
    "        return math.exp(-((x - mean) ** 2) / (2 * sigma ** 2)) / math.sqrt(2 * math.pi * sigma ** 2)\n",
    "    return f\n",
    "\n",
    "# Generate function using the Monte Carlo method\n",
    "def generate_function(func, x_min, x_max, N=1000):\n",
    "    out = []  # Initialize the list to store the accepted values\n",
    "    \n",
    "    # Estimate the maximum value of the function to scale p\n",
    "    samples = [func(x) for x in [x_min + (x_max - x_min) * i / 1000 for i in range(1000)]]\n",
    "    func_max = max(samples)  # Maximum value of the function in the given range\n",
    "\n",
    "    while len(out) < N:\n",
    "        # Generate random x within the range\n",
    "        test_x = random.uniform(x_min, x_max)\n",
    "        # Generate a random probability (between 0 and func_max)\n",
    "        p = random.uniform(0, func_max)\n",
    "        \n",
    "        # Accept test_x if p <= func(test_x), else reject and try again\n",
    "        if p <= func(test_x):\n",
    "            out.append(test_x)  # Add to output list if accepted\n",
    "    \n",
    "    return out\n",
    "\n",
    "# where function for applying a condition\n",
    "def where(mylist, myfunc):\n",
    "    return sum(1 for result in map(myfunc, mylist) if result)\n",
    "\n",
    "# in_range function for checking if the value is within a range\n",
    "def in_range(mymin, mymax):\n",
    "    return lambda x: x >= mymin and x <= mymax\n",
    "\n",
    "# Integrate function to approximate the integral over a specified range\n",
    "def integrate(func, x_min, x_max, n_points=10000):\n",
    "    data = generate_function(func, x_min, x_max, n_points)\n",
    "    # We want to count how many values fall within one standard deviation from the mean (68% of data)\n",
    "    mean = (x_min + x_max) / 2\n",
    "    sigma = (x_max - x_min) / 6  # We assume the range is within 3 standard deviations\n",
    "    \n",
    "    # Define the range for one standard deviation\n",
    "    one_sd_min = mean - sigma\n",
    "    one_sd_max = mean + sigma\n",
    "\n",
    "    # Count the number of points within one standard deviation\n",
    "    count_in_range = where(data, in_range(one_sd_min, one_sd_max))\n",
    "\n",
    "    # Estimate the percentage of points within one standard deviation\n",
    "    percentage = count_in_range / n_points * 100\n",
    "    return percentage\n",
    "\n",
    "# Test the integration to see if approximately 68% of data lies within one standard deviation\n",
    "mean = 0\n",
    "sigma = 1\n",
    "g1 = gaussian(mean, sigma)\n",
    "\n",
    "x_min = -5  # Considering 5 standard deviations for the range\n",
    "x_max = 5\n",
    "\n",
    "percentage_within_sd = integrate(g1, x_min, x_max, 10000)  # Increased points for accuracy\n",
    "\n",
    "print(f\"Percentage of data within one standard deviation: {percentage_within_sd}%\")\n"
   ]
  }
 ],
 "metadata": {
  "kernelspec": {
   "display_name": "Python 3 (ipykernel)",
   "language": "python",
   "name": "python3"
  },
  "language_info": {
   "codemirror_mode": {
    "name": "ipython",
    "version": 3
   },
   "file_extension": ".py",
   "mimetype": "text/x-python",
   "name": "python",
   "nbconvert_exporter": "python",
   "pygments_lexer": "ipython3",
   "version": "3.12.4"
  }
 },
 "nbformat": 4,
 "nbformat_minor": 4
}
