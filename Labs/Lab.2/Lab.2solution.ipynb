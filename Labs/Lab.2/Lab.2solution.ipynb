{
 "cells": [
  {
   "cell_type": "markdown",
   "metadata": {},
   "source": [
    "## Lab 2- Tic Tac Toe\n",
    "\n",
    "In this lab your will build a n x n Tic Tac Toe game. As you do the exercises, make sure your solutions work for any size Tic Tac Toe game. "
   ]
  },
  {
   "cell_type": "code",
   "execution_count": 2,
   "metadata": {},
   "outputs": [
    {
     "name": "stdout",
     "output_type": "stream",
     "text": [
      "Manny Nathan\n"
     ]
    }
   ],
   "source": [
    "print(\"Manny Nathan\")"
   ]
  },
  {
   "cell_type": "markdown",
   "metadata": {},
   "source": [
    "*Exercise 1:* Write a function that creates an n by n matrix (of list of lists) which will represent the state of a Tie Tac Toe game. Let 0, 1, and 2 represent empty, \"X\", and \"O\", respectively.\n"
   ]
  },
  {
   "cell_type": "code",
   "execution_count": 1,
   "metadata": {},
   "outputs": [],
   "source": [
    "# Write you solution here\n",
    "def create_tic_tac_toe_board(n):\n",
    "    \n",
    "    return [[0 for _ in range(n)] for _ in range(n)]\n"
   ]
  },
  {
   "cell_type": "code",
   "execution_count": 2,
   "metadata": {},
   "outputs": [
    {
     "name": "stdout",
     "output_type": "stream",
     "text": [
      "[0, 0, 0]\n",
      "[0, 0, 0]\n",
      "[0, 0, 0]\n"
     ]
    }
   ],
   "source": [
    "# Test your solution here\n",
    "n = 3\n",
    "board = create_tic_tac_toe_board(n)\n",
    "for row in board:\n",
    "    print(row)"
   ]
  },
  {
   "cell_type": "markdown",
   "metadata": {},
   "source": [
    "*Exercise 2:* Write a function that takes 2 integers `n` and `m` as input and draws a `n` by `m` game board. For example the following is a 3x3 board:\n",
    "```\n",
    "   --- --- --- \n",
    "  |   |   |   | \n",
    "   --- --- ---  \n",
    "  |   |   |   | \n",
    "   --- --- ---  \n",
    "  |   |   |   | \n",
    "   --- --- --- \n",
    "   ```"
   ]
  },
  {
   "cell_type": "code",
   "execution_count": 3,
   "metadata": {},
   "outputs": [],
   "source": [
    "# Write you solution here\n",
    "def draw_game_board(n, m):\n",
    "    \n",
    "    for row in range(n):\n",
    "        # Print the cells of the row\n",
    "        print(\" \" + \" | \".join([\" \" for _ in range(m)]))\n",
    "        # Print the horizontal separator if it's not the last row\n",
    "        if row < n - 1:\n",
    "            print(\"---\" + \"---\".join([\"-\" for _ in range(m - 1)]))\n"
   ]
  },
  {
   "cell_type": "code",
   "execution_count": 4,
   "metadata": {},
   "outputs": [
    {
     "name": "stdout",
     "output_type": "stream",
     "text": [
      "   |   |  \n",
      "--------\n",
      "   |   |  \n",
      "--------\n",
      "   |   |  \n"
     ]
    }
   ],
   "source": [
    "# Test your solution here\n",
    "n = 3\n",
    "m = 3\n",
    "draw_game_board(n, m)"
   ]
  },
  {
   "cell_type": "markdown",
   "metadata": {},
   "source": [
    "*Exercise 3:* Modify exercise 2, so that it takes a matrix of the form from exercise 1 and draws a tic-tac-tie board with \"X\"s and \"O\"s.  "
   ]
  },
  {
   "cell_type": "code",
   "execution_count": 5,
   "metadata": {},
   "outputs": [],
   "source": [
    "# Write you solution here\n",
    "def draw_tic_tac_toe_board(matrix):\n",
    "    \n",
    "    n = len(matrix)\n",
    "    m = len(matrix[0]) if n > 0 else 0\n",
    "    \n",
    "    for row in range(n):\n",
    "        # Create a row with \"X\", \"O\", or \" \" based on the matrix values\n",
    "        row_display = [\"X\" if cell == 1 else \"O\" if cell == 2 else \" \" for cell in matrix[row]]\n",
    "        print(\" \" + \" | \".join(row_display))\n",
    "        # Print a horizontal separator for rows except the last one\n",
    "        if row < n - 1:\n",
    "            print(\"---\" + \"---\".join([\"-\" for _ in range(m - 1)]))\n"
   ]
  },
  {
   "cell_type": "code",
   "execution_count": 6,
   "metadata": {},
   "outputs": [
    {
     "name": "stdout",
     "output_type": "stream",
     "text": [
      " X |   | O\n",
      "--------\n",
      "   | X |  \n",
      "--------\n",
      " O |   | X\n"
     ]
    }
   ],
   "source": [
    "# Test your solution here\n",
    "board = [\n",
    "    [1, 0, 2],\n",
    "    [0, 1, 0],\n",
    "    [2, 0, 1]\n",
    "]\n",
    "draw_tic_tac_toe_board(board)\n"
   ]
  },
  {
   "cell_type": "markdown",
   "metadata": {},
   "source": [
    "*Exercise 4:* Write a function that takes a `n` by `n` matrix representing a tic-tac-toe game, and returns -1, 0, 1, or 2 indicating the game is incomplete, the game is a draw, player 1 has won, or player 2 has one, respectively. Here are some example inputs you can use to test your code:"
   ]
  },
  {
   "cell_type": "code",
   "execution_count": 7,
   "metadata": {},
   "outputs": [],
   "source": [
    "# Write you solution here\n",
    "def check_tic_tac_toe_winner(matrix):\n",
    "    \n",
    "    n = len(matrix)\n",
    "\n",
    "    # Check rows and columns for a winner\n",
    "    for i in range(n):\n",
    "        if all(cell == 1 for cell in matrix[i]):  # Check row i\n",
    "            return 1\n",
    "        if all(cell == 2 for cell in matrix[i]):  # Check row i\n",
    "            return 2\n",
    "        if all(matrix[j][i] == 1 for j in range(n)):  # Check column i\n",
    "            return 1\n",
    "        if all(matrix[j][i] == 2 for j in range(n)):  # Check column i\n",
    "            return 2\n",
    "\n",
    "    # Check diagonals for a winner\n",
    "    if all(matrix[i][i] == 1 for i in range(n)):  # Main diagonal\n",
    "        return 1\n",
    "    if all(matrix[i][i] == 2 for i in range(n)):  # Main diagonal\n",
    "        return 2\n",
    "    if all(matrix[i][n - 1 - i] == 1 for i in range(n)):  # Anti-diagonal\n",
    "        return 1\n",
    "    if all(matrix[i][n - 1 - i] == 2 for i in range(n)):  # Anti-diagonal\n",
    "        return 2\n",
    "\n",
    "    # Check if the game is incomplete (any empty cells)\n",
    "    if any(cell == 0 for row in matrix for cell in row):\n",
    "        return -1\n",
    "\n",
    "    # If no winner and no empty cells, it's a draw\n",
    "    return 0"
   ]
  },
  {
   "cell_type": "code",
   "execution_count": 8,
   "metadata": {},
   "outputs": [
    {
     "name": "stdout",
     "output_type": "stream",
     "text": [
      "1\n",
      "0\n",
      "1\n",
      "2\n"
     ]
    }
   ],
   "source": [
    "# Test your solution here\n",
    "board_incomplete = [\n",
    "    [1, 0, 2],\n",
    "    [0, 1, 0],\n",
    "    [2, 0, 1]\n",
    "]\n",
    "\n",
    "board_draw = [\n",
    "    [1, 2, 1],\n",
    "    [2, 1, 2],\n",
    "    [2, 1, 2]\n",
    "]\n",
    "\n",
    "board_player1_wins = [\n",
    "    [1, 1, 1],\n",
    "    [0, 2, 0],\n",
    "    [2, 0, 2]\n",
    "]\n",
    "\n",
    "board_player2_wins = [\n",
    "    [1, 1, 2],\n",
    "    [0, 2, 0],\n",
    "    [2, 0, 2]\n",
    "]\n",
    "\n",
    "print(check_tic_tac_toe_winner(board_incomplete))  # Output: -1\n",
    "print(check_tic_tac_toe_winner(board_draw))        # Output: 0\n",
    "print(check_tic_tac_toe_winner(board_player1_wins))  # Output: 1\n",
    "print(check_tic_tac_toe_winner(board_player2_wins))  # Output: "
   ]
  },
  {
   "cell_type": "code",
   "execution_count": 9,
   "metadata": {},
   "outputs": [],
   "source": [
    "winner_is_2 = [[2, 2, 0],\n",
    "\t[2, 1, 0],\n",
    "\t[2, 1, 1]]\n",
    "\n",
    "winner_is_1 = [[1, 2, 0],\n",
    "\t[2, 1, 0],\n",
    "\t[2, 1, 1]]\n",
    "\n",
    "winner_is_also_1 = [[0, 1, 0],\n",
    "\t[2, 1, 0],\n",
    "\t[2, 1, 1]]\n",
    "\n",
    "no_winner = [[1, 2, 0],\n",
    "\t[2, 1, 0],\n",
    "\t[2, 1, 2]]\n",
    "\n",
    "also_no_winner = [[1, 2, 0],\n",
    "\t[2, 1, 0],\n",
    "\t[2, 1, 0]]"
   ]
  },
  {
   "cell_type": "markdown",
   "metadata": {},
   "source": [
    "*Exercise 5:* Write a function that takes a game board, player number, and `(x,y)` coordinates and places \"X\" or \"O\" in the correct location of the game board. Make sure that you only allow filling previously empty locations. Return `True` or `False` to indicate successful placement of \"X\" or \"O\"."
   ]
  },
  {
   "cell_type": "code",
   "execution_count": 10,
   "metadata": {},
   "outputs": [],
   "source": [
    "# Write you solution here\n",
    "def place_move(matrix, player, x, y):\n",
    "    \n",
    "    n = len(matrix)  # Size of the board\n",
    "\n",
    "    # Check if coordinates are within bounds\n",
    "    if not (0 <= x < n and 0 <= y < n):\n",
    "        return False\n",
    "\n",
    "    # Check if the cell is empty before placing the move\n",
    "    if matrix[x][y] == 0:\n",
    "        matrix[x][y] = player  # Place the player's move\n",
    "        return True\n",
    "    else:\n",
    "        return False  # Move not allowed if the cell is already filled"
   ]
  },
  {
   "cell_type": "code",
   "execution_count": 11,
   "metadata": {},
   "outputs": [
    {
     "name": "stdout",
     "output_type": "stream",
     "text": [
      "Move successful: True\n",
      "[1, 0, 2]\n",
      "[0, 1, 1]\n",
      "[2, 0, 1]\n"
     ]
    }
   ],
   "source": [
    "# Test your solution here\n",
    "board = [\n",
    "    [1, 0, 2],\n",
    "    [0, 1, 0],\n",
    "    [2, 0, 1]\n",
    "]\n",
    "\n",
    "# Try placing a move\n",
    "success = place_move(board, 1, 1, 2)  # Player 1 tries to place \"X\" at (1,2)\n",
    "print(\"Move successful:\", success)\n",
    "\n",
    "# Display updated board\n",
    "for row in board:\n",
    "    print(row)"
   ]
  },
  {
   "cell_type": "markdown",
   "metadata": {},
   "source": [
    "*Exercise 6:* Modify Exercise 3 to show column and row labels so that players can specify location using \"A2\" or \"C1\"."
   ]
  },
  {
   "cell_type": "code",
   "execution_count": 12,
   "metadata": {},
   "outputs": [],
   "source": [
    "# Write you solution here\n",
    "import string\n",
    "\n",
    "def draw_labeled_tic_tac_toe_board(matrix):\n",
    "    \n",
    "    n = len(matrix)\n",
    "    col_labels = list(string.ascii_uppercase[:n])  # Generate column labels (A, B, C, ...)\n",
    "    \n",
    "    # Print column headers\n",
    "    print(\"   \" + \"   \".join(col_labels))\n",
    "    \n",
    "    for i in range(n):\n",
    "        # Create a row with \"X\", \"O\", or \" \" based on the matrix values\n",
    "        row_display = [\"X\" if cell == 1 else \"O\" if cell == 2 else \" \" for cell in matrix[i]]\n",
    "        \n",
    "        # Print row label and row content\n",
    "        print(f\"{i+1}  \" + \" | \".join(row_display))\n",
    "        \n",
    "        # Print a horizontal separator for rows except the last one\n",
    "        if i < n - 1:\n",
    "            print(\"  \" + \"---+\" * (n - 1) + \"---\")\n"
   ]
  },
  {
   "cell_type": "code",
   "execution_count": 13,
   "metadata": {},
   "outputs": [
    {
     "name": "stdout",
     "output_type": "stream",
     "text": [
      "   A   B   C\n",
      "1  X |   | O\n",
      "  ---+---+---\n",
      "2    | X |  \n",
      "  ---+---+---\n",
      "3  O |   | X\n"
     ]
    }
   ],
   "source": [
    "# Test your solution here\n",
    "board = [\n",
    "    [1, 0, 2],\n",
    "    [0, 1, 0],\n",
    "    [2, 0, 1]\n",
    "]\n",
    "\n",
    "draw_labeled_tic_tac_toe_board(board)"
   ]
  },
  {
   "cell_type": "markdown",
   "metadata": {},
   "source": [
    "*Exercise 7:* Write a function that takes a board, player number, and location specified as in exercise 6 and then calls exercise 5 to correctly modify the board.  "
   ]
  },
  {
   "cell_type": "code",
   "execution_count": 14,
   "metadata": {},
   "outputs": [],
   "source": [
    "# Write you solution here\n",
    "import string\n",
    "\n",
    "def place_labeled_move(matrix, player, location):\n",
    "    \n",
    "    n = len(matrix)\n",
    "    \n",
    "    if len(location) < 2:\n",
    "        return False  # Invalid input format\n",
    "    \n",
    "    col_label, row_label = location[0].upper(), location[1:]\n",
    "    \n",
    "    # Convert column letter to index (A -> 0, B -> 1, etc.)\n",
    "    if col_label not in string.ascii_uppercase[:n]:\n",
    "        return False  # Invalid column input\n",
    "    \n",
    "    try:\n",
    "        row_index = int(row_label) - 1  # Convert row number to index (1-based to 0-based)\n",
    "    except ValueError:\n",
    "        return False  # Invalid row input\n",
    "    \n",
    "    col_index = string.ascii_uppercase.index(col_label)\n",
    "    \n",
    "    # Check if row_index is within bounds\n",
    "    if not (0 <= row_index < n):\n",
    "        return False\n",
    "    \n",
    "    return place_move(matrix, player, row_index, col_index)"
   ]
  },
  {
   "cell_type": "code",
   "execution_count": 15,
   "metadata": {},
   "outputs": [
    {
     "name": "stdout",
     "output_type": "stream",
     "text": [
      "Move successful: False\n",
      "   A   B   C\n",
      "1  X |   | O\n",
      "  ---+---+---\n",
      "2    | X |  \n",
      "  ---+---+---\n",
      "3  O |   | X\n"
     ]
    }
   ],
   "source": [
    "# Test your solution here\n",
    "board = [\n",
    "    [1, 0, 2],\n",
    "    [0, 1, 0],\n",
    "    [2, 0, 1]\n",
    "]\n",
    "\n",
    "move_success = place_labeled_move(board, 1, \"B2\")  # Player 1 places \"X\" at B2\n",
    "print(\"Move successful:\", move_success)\n",
    "\n",
    "draw_labeled_tic_tac_toe_board(board)"
   ]
  },
  {
   "cell_type": "markdown",
   "metadata": {},
   "source": [
    "*Exercise 8:* Write a function is called with a board and player number, takes input from the player using python's `input`, and modifies the board using your function from exercise 7. Note that you should keep asking for input until you have gotten a valid input that results in a valid move."
   ]
  },
  {
   "cell_type": "code",
   "execution_count": 16,
   "metadata": {},
   "outputs": [],
   "source": [
    "# Write you solution here\n",
    "def get_player_move(matrix, player):\n",
    "    \n",
    "    while True:\n",
    "        draw_labeled_tic_tac_toe_board(matrix)  # Show current board state\n",
    "        move = input(f\"Player {player} ({'X' if player == 1 else 'O'}), enter your move (e.g., A1, B2): \").strip().upper()\n",
    "        \n",
    "        if place_labeled_move(matrix, player, move):\n",
    "            print(\"Move accepted!\\n\")\n",
    "            break  # Exit loop when a valid move is made\n",
    "        else:\n",
    "            print(\"Invalid move. Please try again.\")\n"
   ]
  },
  {
   "cell_type": "code",
   "execution_count": 18,
   "metadata": {},
   "outputs": [
    {
     "name": "stdout",
     "output_type": "stream",
     "text": [
      "   A   B   C\n",
      "1  X |   | O\n",
      "  ---+---+---\n",
      "2    | X |  \n",
      "  ---+---+---\n",
      "3  O |   | X\n"
     ]
    },
    {
     "name": "stdin",
     "output_type": "stream",
     "text": [
      "Player 1 (X), enter your move (e.g., A1, B2):  A2\n"
     ]
    },
    {
     "name": "stdout",
     "output_type": "stream",
     "text": [
      "Move accepted!\n",
      "\n",
      "   A   B   C\n",
      "1  X |   | O\n",
      "  ---+---+---\n",
      "2  X | X |  \n",
      "  ---+---+---\n",
      "3  O |   | X\n"
     ]
    }
   ],
   "source": [
    "# Test your solution here\n",
    "board = [\n",
    "    [1, 0, 2],\n",
    "    [0, 1, 0],\n",
    "    [2, 0, 1]\n",
    "]\n",
    "\n",
    "get_player_move(board, 1)  # Prompts Player 1 for a move\n",
    "draw_labeled_tic_tac_toe_board(board)  # Show final board state\n"
   ]
  },
  {
   "cell_type": "markdown",
   "metadata": {},
   "source": [
    "*Exercise 9:* Use all of the previous exercises to implement a full tic-tac-toe game, where an appropriate board is drawn, 2 players are repeatedly asked for a location coordinates of where they wish to place a mark, and the game status is checked until a player wins or a draw occurs."
   ]
  },
  {
   "cell_type": "code",
   "execution_count": 19,
   "metadata": {},
   "outputs": [],
   "source": [
    "# Write you solution here\n",
    "\n",
    "# Exercise 1: Create an empty n x n board\n",
    "def create_board(n):\n",
    "    \"\"\"Creates an n x n Tic-Tac-Toe board filled with 0 (empty spaces).\"\"\"\n",
    "    return [[0] * n for _ in range(n)]\n",
    "\n",
    "# Exercise 2 & 3: Draw a board with labeled rows/columns\n",
    "def draw_labeled_tic_tac_toe_board(matrix):\n",
    "    \"\"\"Draws the Tic Tac Toe board with column (A, B, C...) and row labels (1, 2, 3...).\"\"\"\n",
    "    n = len(matrix)\n",
    "    col_labels = list(string.ascii_uppercase[:n])  # A, B, C, ...\n",
    "\n",
    "    # Print column headers\n",
    "    print(\"\\n   \" + \"   \".join(col_labels))\n",
    "\n",
    "    for i in range(n):\n",
    "        row_display = [\"X\" if cell == 1 else \"O\" if cell == 2 else \" \" for cell in matrix[i]]\n",
    "        print(f\"{i+1}  \" + \" | \".join(row_display))\n",
    "\n",
    "        if i < n - 1:\n",
    "            print(\"  \" + \"---+\" * (n - 1) + \"---\")\n",
    "\n",
    "# Exercise 5: Place a move on the board\n",
    "def place_move(matrix, player, x, y):\n",
    "    \"\"\"Places a move on the board if the selected cell is empty.\"\"\"\n",
    "    if matrix[x][y] == 0:\n",
    "        matrix[x][y] = player\n",
    "        return True\n",
    "    return False\n",
    "\n",
    "# Exercise 6 & 7: Place move using labeled coordinates\n",
    "def place_labeled_move(matrix, player, location):\n",
    "    \"\"\"Places a move using labeled coordinates (e.g., 'A1', 'B2').\"\"\"\n",
    "    n = len(matrix)\n",
    "    if len(location) < 2:\n",
    "        return False  # Invalid input\n",
    "\n",
    "    col_label, row_label = location[0].upper(), location[1:]\n",
    "    if col_label not in string.ascii_uppercase[:n]:\n",
    "        return False  # Invalid column\n",
    "    \n",
    "    try:\n",
    "        row_index = int(row_label) - 1  # Convert 1-based row to 0-based\n",
    "    except ValueError:\n",
    "        return False\n",
    "\n",
    "    col_index = string.ascii_uppercase.index(col_label)\n",
    "    if not (0 <= row_index < n):\n",
    "        return False\n",
    "\n",
    "    return place_move(matrix, player, row_index, col_index)\n",
    "\n",
    "# Exercise 4: Check game status\n",
    "def check_game_status(matrix):\n",
    "    \n",
    "    n = len(matrix)\n",
    "\n",
    "    # Check rows and columns\n",
    "    for i in range(n):\n",
    "        if matrix[i].count(matrix[i][0]) == n and matrix[i][0] != 0:\n",
    "            return matrix[i][0]  # Row win\n",
    "        if all(matrix[j][i] == matrix[0][i] and matrix[0][i] != 0 for j in range(n)):\n",
    "            return matrix[0][i]  # Column win\n",
    "\n",
    "    # Check diagonals\n",
    "    if all(matrix[i][i] == matrix[0][0] and matrix[0][0] != 0 for i in range(n)):\n",
    "        return matrix[0][0]  # Main diagonal win\n",
    "    if all(matrix[i][n - 1 - i] == matrix[0][n - 1] and matrix[0][n - 1] != 0 for i in range(n)):\n",
    "        return matrix[0][n - 1]  # Anti-diagonal win\n",
    "\n",
    "    # Check for an ongoing game (-1) or a draw (0)\n",
    "    return -1 if any(0 in row for row in matrix) else 0\n",
    "\n",
    "# Exercise 8: Get a valid player move\n",
    "def get_player_move(matrix, player):\n",
    "    \"\"\"Repeatedly prompts the player until they enter a valid move.\"\"\"\n",
    "    while True:\n",
    "        draw_labeled_tic_tac_toe_board(matrix)\n",
    "        move = input(f\"Player {player} ({'X' if player == 1 else 'O'}), enter your move (e.g., A1, B2): \").strip().upper()\n",
    "\n",
    "        if place_labeled_move(matrix, player, move):\n",
    "            return  # Valid move made, return\n",
    "        else:\n",
    "            print(\"Invalid move. Try again.\")\n",
    "\n",
    "# Exercise 9: Full game loop\n",
    "def play_tic_tac_toe(n):\n",
    "    \"\"\"Runs a full Tic Tac Toe game for two players on an n x n board.\"\"\"\n",
    "    board = create_board(n)\n",
    "    player = 1  # Player 1 starts\n",
    "\n",
    "    while True:\n",
    "        get_player_move(board, player)  # Get a valid move\n",
    "        game_status = check_game_status(board)\n",
    "\n",
    "        if game_status == 1:\n",
    "            draw_labeled_tic_tac_toe_board(board)\n",
    "            print(\" Player 1 (X) wins!\")\n",
    "            break\n",
    "        elif game_status == 2:\n",
    "            draw_labeled_tic_tac_toe_board(board)\n",
    "            print(\" Player 2 (O) wins!\")\n",
    "            break\n",
    "        elif game_status == 0:\n",
    "            draw_labeled_tic_tac_toe_board(board)\n",
    "            print(\" It's a draw!\")\n",
    "            break\n",
    "        \n",
    "        # Switch players (1 -> 2, 2 -> 1)\n",
    "        player = 3 - player"
   ]
  },
  {
   "cell_type": "code",
   "execution_count": 20,
   "metadata": {},
   "outputs": [
    {
     "name": "stdin",
     "output_type": "stream",
     "text": [
      "Enter board size (e.g., 3 for 3x3):  3\n"
     ]
    },
    {
     "name": "stdout",
     "output_type": "stream",
     "text": [
      "\n",
      "   A   B   C\n",
      "1    |   |  \n",
      "  ---+---+---\n",
      "2    |   |  \n",
      "  ---+---+---\n",
      "3    |   |  \n"
     ]
    },
    {
     "name": "stdin",
     "output_type": "stream",
     "text": [
      "Player 1 (X), enter your move (e.g., A1, B2):  B2\n"
     ]
    },
    {
     "name": "stdout",
     "output_type": "stream",
     "text": [
      "\n",
      "   A   B   C\n",
      "1    |   |  \n",
      "  ---+---+---\n",
      "2    | X |  \n",
      "  ---+---+---\n",
      "3    |   |  \n"
     ]
    },
    {
     "name": "stdin",
     "output_type": "stream",
     "text": [
      "Player 2 (O), enter your move (e.g., A1, B2):  C1\n"
     ]
    },
    {
     "name": "stdout",
     "output_type": "stream",
     "text": [
      "\n",
      "   A   B   C\n",
      "1    |   | O\n",
      "  ---+---+---\n",
      "2    | X |  \n",
      "  ---+---+---\n",
      "3    |   |  \n"
     ]
    },
    {
     "name": "stdin",
     "output_type": "stream",
     "text": [
      "Player 1 (X), enter your move (e.g., A1, B2):  A3\n"
     ]
    },
    {
     "name": "stdout",
     "output_type": "stream",
     "text": [
      "\n",
      "   A   B   C\n",
      "1    |   | O\n",
      "  ---+---+---\n",
      "2    | X |  \n",
      "  ---+---+---\n",
      "3  X |   |  \n"
     ]
    },
    {
     "name": "stdin",
     "output_type": "stream",
     "text": [
      "Player 2 (O), enter your move (e.g., A1, B2):  C2\n"
     ]
    },
    {
     "name": "stdout",
     "output_type": "stream",
     "text": [
      "\n",
      "   A   B   C\n",
      "1    |   | O\n",
      "  ---+---+---\n",
      "2    | X | O\n",
      "  ---+---+---\n",
      "3  X |   |  \n"
     ]
    },
    {
     "name": "stdin",
     "output_type": "stream",
     "text": [
      "Player 1 (X), enter your move (e.g., A1, B2):  C3\n"
     ]
    },
    {
     "name": "stdout",
     "output_type": "stream",
     "text": [
      "\n",
      "   A   B   C\n",
      "1    |   | O\n",
      "  ---+---+---\n",
      "2    | X | O\n",
      "  ---+---+---\n",
      "3  X |   | X\n"
     ]
    },
    {
     "name": "stdin",
     "output_type": "stream",
     "text": [
      "Player 2 (O), enter your move (e.g., A1, B2):  A1\n"
     ]
    },
    {
     "name": "stdout",
     "output_type": "stream",
     "text": [
      "\n",
      "   A   B   C\n",
      "1  O |   | O\n",
      "  ---+---+---\n",
      "2    | X | O\n",
      "  ---+---+---\n",
      "3  X |   | X\n"
     ]
    },
    {
     "name": "stdin",
     "output_type": "stream",
     "text": [
      "Player 1 (X), enter your move (e.g., A1, B2):  B3\n"
     ]
    },
    {
     "name": "stdout",
     "output_type": "stream",
     "text": [
      "\n",
      "   A   B   C\n",
      "1  O |   | O\n",
      "  ---+---+---\n",
      "2    | X | O\n",
      "  ---+---+---\n",
      "3  X | X | X\n",
      " Player 1 (X) wins!\n"
     ]
    }
   ],
   "source": [
    "# Test your solution here\n",
    "n = int(input(\"Enter board size (e.g., 3 for 3x3): \"))\n",
    "play_tic_tac_toe(n)"
   ]
  },
  {
   "cell_type": "markdown",
   "metadata": {},
   "source": [
    "*Exercise 10:* Test that your game works for 5x5 Tic Tac Toe.  "
   ]
  },
  {
   "cell_type": "code",
   "execution_count": 21,
   "metadata": {},
   "outputs": [
    {
     "name": "stdout",
     "output_type": "stream",
     "text": [
      "\n",
      "   A   B   C   D   E\n",
      "1  X |   |   |   |  \n",
      "  ---+---+---+---+---\n",
      "2    |   |   |   |  \n",
      "  ---+---+---+---+---\n",
      "3    |   |   |   |  \n",
      "  ---+---+---+---+---\n",
      "4    |   |   |   |  \n",
      "  ---+---+---+---+---\n",
      "5    |   |   |   |  \n",
      "\n",
      "   A   B   C   D   E\n",
      "1  X | O |   |   |  \n",
      "  ---+---+---+---+---\n",
      "2    |   |   |   |  \n",
      "  ---+---+---+---+---\n",
      "3    |   |   |   |  \n",
      "  ---+---+---+---+---\n",
      "4    |   |   |   |  \n",
      "  ---+---+---+---+---\n",
      "5    |   |   |   |  \n",
      "\n",
      "   A   B   C   D   E\n",
      "1  X | O |   |   |  \n",
      "  ---+---+---+---+---\n",
      "2  X |   |   |   |  \n",
      "  ---+---+---+---+---\n",
      "3    |   |   |   |  \n",
      "  ---+---+---+---+---\n",
      "4    |   |   |   |  \n",
      "  ---+---+---+---+---\n",
      "5    |   |   |   |  \n",
      "\n",
      "   A   B   C   D   E\n",
      "1  X | O |   |   |  \n",
      "  ---+---+---+---+---\n",
      "2  X | O |   |   |  \n",
      "  ---+---+---+---+---\n",
      "3    |   |   |   |  \n",
      "  ---+---+---+---+---\n",
      "4    |   |   |   |  \n",
      "  ---+---+---+---+---\n",
      "5    |   |   |   |  \n",
      "\n",
      "   A   B   C   D   E\n",
      "1  X | O |   |   |  \n",
      "  ---+---+---+---+---\n",
      "2  X | O |   |   |  \n",
      "  ---+---+---+---+---\n",
      "3  X |   |   |   |  \n",
      "  ---+---+---+---+---\n",
      "4    |   |   |   |  \n",
      "  ---+---+---+---+---\n",
      "5    |   |   |   |  \n",
      "\n",
      "   A   B   C   D   E\n",
      "1  X | O |   |   |  \n",
      "  ---+---+---+---+---\n",
      "2  X | O |   |   |  \n",
      "  ---+---+---+---+---\n",
      "3  X | O |   |   |  \n",
      "  ---+---+---+---+---\n",
      "4    |   |   |   |  \n",
      "  ---+---+---+---+---\n",
      "5    |   |   |   |  \n",
      "\n",
      "   A   B   C   D   E\n",
      "1  X | O |   |   |  \n",
      "  ---+---+---+---+---\n",
      "2  X | O |   |   |  \n",
      "  ---+---+---+---+---\n",
      "3  X | O |   |   |  \n",
      "  ---+---+---+---+---\n",
      "4  X |   |   |   |  \n",
      "  ---+---+---+---+---\n",
      "5    |   |   |   |  \n",
      "\n",
      "   A   B   C   D   E\n",
      "1  X | O |   |   |  \n",
      "  ---+---+---+---+---\n",
      "2  X | O |   |   |  \n",
      "  ---+---+---+---+---\n",
      "3  X | O |   |   |  \n",
      "  ---+---+---+---+---\n",
      "4  X | O |   |   |  \n",
      "  ---+---+---+---+---\n",
      "5    |   |   |   |  \n",
      "\n",
      "   A   B   C   D   E\n",
      "1  X | O |   |   |  \n",
      "  ---+---+---+---+---\n",
      "2  X | O |   |   |  \n",
      "  ---+---+---+---+---\n",
      "3  X | O |   |   |  \n",
      "  ---+---+---+---+---\n",
      "4  X | O |   |   |  \n",
      "  ---+---+---+---+---\n",
      "5  X |   |   |   |  \n",
      " Test Passed: Player 1 (X) wins on a 5x5 board!\n"
     ]
    }
   ],
   "source": [
    "# Test your solution here\n",
    "def test_tic_tac_toe_5x5():\n",
    "    \"\"\"Automated test for 5x5 Tic Tac Toe to verify gameplay logic.\"\"\"\n",
    "    board = create_board(5)\n",
    "    moves = [\"A1\", \"B1\", \"A2\", \"B2\", \"A3\", \"B3\", \"A4\", \"B4\", \"A5\"]  # Player 1 (Winning move sequence)\n",
    "    player = 1  # Start with Player 1\n",
    "\n",
    "    for move in moves:\n",
    "        if place_labeled_move(board, player, move):\n",
    "            game_status = check_game_status(board)\n",
    "            draw_labeled_tic_tac_toe_board(board)\n",
    "            \n",
    "            if game_status == 1:\n",
    "                print(\" Test Passed: Player 1 (X) wins on a 5x5 board!\")\n",
    "                return\n",
    "            elif game_status == 2:\n",
    "                print(\" Test Passed: Player 2 (O) wins on a 5x5 board!\")\n",
    "                return\n",
    "            elif game_status == 0:\n",
    "                print(\" Test Passed: It's a draw on a 5x5 board!\")\n",
    "                return\n",
    "            \n",
    "            player = 3 - player  # Switch player\n",
    "\n",
    "    print(\" Test Failed: No winner or draw detected.\")\n",
    "\n",
    "# Run the automated test for 5x5 board\n",
    "test_tic_tac_toe_5x5()"
   ]
  },
  {
   "cell_type": "markdown",
   "metadata": {},
   "source": [
    "*Exercise 11:* (Advanced / Challenge) Develop a version of the game where one player is the computer. Note that you don't need to do an extensive seach for the best move. You can have the computer simply protect against loosing and otherwise try to win with straight or diagonal patterns."
   ]
  },
  {
   "cell_type": "code",
   "execution_count": null,
   "metadata": {
    "collapsed": true,
    "jupyter": {
     "outputs_hidden": true
    }
   },
   "outputs": [],
   "source": [
    "# Write you solution here"
   ]
  },
  {
   "cell_type": "code",
   "execution_count": null,
   "metadata": {
    "collapsed": true,
    "jupyter": {
     "outputs_hidden": true
    }
   },
   "outputs": [],
   "source": [
    "# Test your solution here"
   ]
  }
 ],
 "metadata": {
  "kernelspec": {
   "display_name": "Python 3 (ipykernel)",
   "language": "python",
   "name": "python3"
  },
  "language_info": {
   "codemirror_mode": {
    "name": "ipython",
    "version": 3
   },
   "file_extension": ".py",
   "mimetype": "text/x-python",
   "name": "python",
   "nbconvert_exporter": "python",
   "pygments_lexer": "ipython3",
   "version": "3.12.4"
  }
 },
 "nbformat": 4,
 "nbformat_minor": 4
}
